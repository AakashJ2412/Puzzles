{
 "cells": [
  {
   "cell_type": "code",
   "execution_count": 1,
   "metadata": {},
   "outputs": [],
   "source": [
    "import sys\n",
    "import random\n",
    "sys.path.append(\"../\")\n",
    "from pprint import pprint\n",
    "from Core.maze import Maze"
   ]
  },
  {
   "cell_type": "markdown",
   "metadata": {},
   "source": [
    "# The Sidewinder Algorithm\n",
    "## How does it work?\n",
    "The Sidewinder algorithm is closely related to the binary tree algorithm, in which it involves randomly grouping a set of consecutive nodes in each row before carving any upward node. This is done by taking a node, and randomly deciding whether to carve east or not. If carved east, the node is added to the list of 'selected' nodes. Once we decide not to carve east, or we reach the end of the row, we then carve north for any one random node in our 'selected' list. An interesting point to note about this algorithm is that by necessity, the first row must always be fully carved eastwards, as carving north here is not possible.\n",
    "## Is every node connected?\n",
    "Yes every node is connected. This can be concluded by considering the graph row by row. The first row is always connected, by necessity. In the second row, each set of nodes that were selected have been carved northward, thus connecting that set to our first row, making the entire set connected. This can be applied to all selected sets of the row, and thus they are all connected. For the rest of the rows, we observe that this applies recursively, as each row is always connected to the row above."
   ]
  },
  {
   "cell_type": "code",
   "execution_count": 2,
   "metadata": {},
   "outputs": [],
   "source": [
    "def Sidewinder(maze):\n",
    "    # The list temp will denote our currently selected set of nodes\n",
    "    temp = []\n",
    "    for y in range(0,maze.num_rows):\n",
    "        # temp has to be emptied for each fresh row\n",
    "        temp.clear()\n",
    "        for x in range(0,maze.num_columns):\n",
    "            # the first row has to have each node carved east out of necessity\n",
    "            if y == 0 and x != maze.num_columns-1:\n",
    "                maze.add_path((x,y), 'E', 0)\n",
    "                continue\n",
    "            elif y == 0 and x == maze.num_columns-1:\n",
    "                continue\n",
    "            # in case the set is empty, we select the current node\n",
    "            if len(temp) == 0:\n",
    "                temp.append(x)\n",
    "            check = random.randint(0,1)\n",
    "            # if we are at the last column of any row, we must randomly carve north out of the selected set\n",
    "            if x == maze.num_columns-1:\n",
    "                check = 1\n",
    "            # if check = 0, we carve east and add the next node to our selected set\n",
    "            if check == 0:\n",
    "                temp.append(x+1)\n",
    "                maze.add_path((x,y), 'E', 0)\n",
    "            # if check = 1, we carve north for a random node from our selected set, and clear the set\n",
    "            else:\n",
    "                randval = random.randint(0,len(temp)-1)\n",
    "                maze.add_path((temp[randval],y), 'N', 0)\n",
    "                temp.clear()"
   ]
  },
  {
   "cell_type": "code",
   "execution_count": 3,
   "metadata": {},
   "outputs": [
    {
     "data": {
      "image/png": "[encoded data removed]",
      "text/plain": [
       "<PIL.Image.Image image mode=RGBA size=90x90 at 0x7F205C136490>"
      ]
     },
     "metadata": {},
     "output_type": "display_data"
    },
    {
     "data": {
      "image/png": "[encoded data removed]",
      "text/plain": [
       "<PIL.Image.Image image mode=RGBA size=170x170 at 0x7F205C1166A0>"
      ]
     },
     "metadata": {},
     "output_type": "display_data"
    },
    {
     "data": {
      "image/png": "[encoded data removed]",
      "text/plain": [
       "<PIL.Image.Image image mode=RGBA size=250x250 at 0x7F205C0A4CA0>"
      ]
     },
     "metadata": {},
     "output_type": "display_data"
    }
   ],
   "source": [
    "maze = Maze(4, 4)\n",
    "Sidewinder(maze)\n",
    "maze.add_colors(color=(255, 128, 0))\n",
    "display(maze.draw(cell_width = 20))\n",
    "maze.dump(\"Sidewinder_4x4.maze\")\n",
    "        \n",
    "maze = Maze(8, 8)\n",
    "Sidewinder(maze)\n",
    "maze.add_colors(color=(255, 128, 0))\n",
    "display(maze.draw(cell_width = 20))\n",
    "maze.dump(\"Sidewinder_8x8.maze\")\n",
    "\n",
    "maze = Maze(16, 16)\n",
    "Sidewinder(maze)\n",
    "maze.add_colors(color=(255, 128, 0))\n",
    "display(maze.draw(cell_width = 15))\n",
    "maze.dump(\"Sidewinder_16x16.maze\")"
   ]
  },
  {
   "cell_type": "markdown",
   "metadata": {},
   "source": [
    "## Basic Analysis\n",
    "\n",
    "### Time Complexity : O(N<sup>2</sup>)\n",
    "\n",
    "In this algorithm, we iterate over each and every node once, in a left to right, then top to bottom fashion. Assuming the number of rows/columns being N, we get that the time complexity is equal to the number of nodes.\n",
    "\n",
    "### Additional Space : O(N)\n",
    "\n",
    "The additional space here is O(N) in worst case. This can be seen in the case where we are somehow able to carve east for the entire row, thus making the size of our selected set N, assuming the row has N nodes.\n",
    "\n",
    "### Bias\n",
    "\n",
    "A very obvious issue with this algorithm is that the first row of the maze will always have to be completely carved eastward, which maybe taken advantage of by solving algorithms as the first row can act as the 'root' from which the maze can be solved. "
   ]
  },
  {
   "cell_type": "code",
   "execution_count": 4,
   "metadata": {},
   "outputs": [
    {
     "name": "stdout",
     "output_type": "stream",
     "text": [
      "    Deadends  :  27.647100\n",
      "Straightways  :  22.709300\n",
      "   LeftTurns  :  12.419600\n",
      "  RightTurns  :  12.349100\n",
      "   Junctions  :  22.122700\n",
      "  Crossroads  :  2.752200\n"
     ]
    }
   ],
   "source": [
    "total = {\"Deadends\": 0, \"Straightways\": 0, \"LeftTurns\": 0, \"RightTurns\": 0, \"Junctions\": 0, \"Crossroads\": 0}\n",
    "for i in range(0, 100):\n",
    "    maze = Maze(100, 100)\n",
    "    Sidewinder(maze)\n",
    "    partial = maze.benchmark()\n",
    "    total[\"Deadends\"] += partial[\"Deadends\"]\n",
    "    total[\"Straightways\"] += partial[\"Straightways\"]\n",
    "    total[\"LeftTurns\"] += partial[\"LeftTurns\"]\n",
    "    total[\"RightTurns\"] += partial[\"RightTurns\"]\n",
    "    total[\"Junctions\"] += partial[\"Junctions\"]\n",
    "    total[\"Crossroads\"] += partial[\"Crossroads\"]\n",
    "\n",
    "div = 0\n",
    "for i in total:\n",
    "    div += total[i]\n",
    "\n",
    "for i in total:\n",
    "    total[i] /= div\n",
    "    total[i] *= 100\n",
    "    round(total[i], 3)\n",
    "\n",
    "for i in total:\n",
    "    print(\"%12s %s %3f\" % (i, \" : \", total[i]))"
   ]
  },
  {
   "cell_type": "markdown",
   "metadata": {},
   "source": [
    "### Further analysis\n",
    "The sidewinder algorithm produces a pretty uniformly distributed maze. As we can see the deadend percentage is slightly high, but it is comparable to the rest of the types of nodes. This kind of maze can be used a large common passageway and multiple branches off of the main passageway are required. "
   ]
  }
 ],
 "metadata": {
  "kernelspec": {
   "display_name": "Python 3",
   "language": "python",
   "name": "python3"
  },
  "language_info": {
   "codemirror_mode": {
    "name": "ipython",
    "version": 3
   },
   "file_extension": ".py",
   "mimetype": "text/x-python",
   "name": "python",
   "nbconvert_exporter": "python",
   "pygments_lexer": "ipython3",
   "version": "3.7.7"
  }
 },
 "nbformat": 4,
 "nbformat_minor": 4
}
