{
 "cells": [
  {
   "cell_type": "code",
   "execution_count": 1,
   "metadata": {},
   "outputs": [],
   "source": [
    "import sys\n",
    "import random\n",
    "sys.path.append(\"../\")\n",
    "from pprint import pprint\n",
    "from Core.maze import Maze       "
   ]
  },
  {
   "cell_type": "markdown",
   "metadata": {},
   "source": [
    "# The Aldous-Broder Algorithm\n",
    "## How does it work?\n",
    "The Aldous Broder Algorithm is an unbiased algorithm, and entirely random, a trait it manages by having a high time complexity (a worst case of infinity). It works by starting from a cell, going to a random neighbour and drawing a path between them if the neighbour is unvisited."
   ]
  },
  {
   "cell_type": "code",
   "execution_count": 2,
   "metadata": {},
   "outputs": [],
   "source": [
    "class GridElement:\n",
    "    def __init__(self,x,y):\n",
    "        self.x = x\n",
    "        self.y = y"
   ]
  },
  {
   "cell_type": "code",
   "execution_count": 3,
   "metadata": {},
   "outputs": [],
   "source": [
    "def aldousbroder(maze):\n",
    "    # Creating a visited array to check if the node has been visited or not\n",
    "    # O represents unvisited and 1 represents visited\n",
    "    vis = []\n",
    "    for i in range(0, maze.num_rows):\n",
    "        # this creates a rows*columns matrix with all elements having value 0\n",
    "        vis.append(list(bytearray(maze.num_columns)))\n",
    "    total_cells = maze.num_rows * maze.num_columns\n",
    "    last_visited_cell = GridElement(0,0)\n",
    "    vis[last_visited_cell.y][last_visited_cell.x] = 1\n",
    "    unvisited_cells = total_cells - 1\n",
    "    possible_directions = ['N','W','S','E']\n",
    "    # randomly checks neighbours, draws a link till there are non-zero unvisited cells\n",
    "    while unvisited_cells > 0:\n",
    "        random_direction = possible_directions[random.randint(0,3)]\n",
    "        # basic template\n",
    "        # if there is a random direction\n",
    "        #     if the cell in that direction is outside bounds\n",
    "        #         continue\n",
    "        #     move to a new \"last visited cell\" in that direction\n",
    "        #     if this new cell has already been visited\n",
    "        #         continue\n",
    "        #     add this path to the maze, but from the cell before moving in this direction\n",
    "        #     add this \"last visited cell\" to the visited counter\n",
    "        #     change number of unvisited cells\n",
    "        if random_direction == 'N':\n",
    "            if last_visited_cell.y-1<0:\n",
    "                continue\n",
    "            last_visited_cell.y -= 1\n",
    "            if vis[last_visited_cell.y][last_visited_cell.x] == 1:\n",
    "                continue\n",
    "            maze.add_path((last_visited_cell.x,last_visited_cell.y+1),random_direction,0) \n",
    "            vis[last_visited_cell.y][last_visited_cell.x] = 1\n",
    "            unvisited_cells-=1\n",
    "        elif random_direction == 'W':\n",
    "            if last_visited_cell.x-1<0:\n",
    "                continue\n",
    "            last_visited_cell.x -= 1\n",
    "            if vis[last_visited_cell.y][last_visited_cell.x] == 1:\n",
    "                continue\n",
    "            maze.add_path((last_visited_cell.x+1,last_visited_cell.y),random_direction,0)  \n",
    "            vis[last_visited_cell.y][last_visited_cell.x] = 1\n",
    "            unvisited_cells-=1\n",
    "        elif random_direction == 'S':\n",
    "            if last_visited_cell.y+1>(maze.num_rows-1):\n",
    "                continue\n",
    "            last_visited_cell.y += 1\n",
    "            if vis[last_visited_cell.y][last_visited_cell.x] == 1:\n",
    "                continue\n",
    "            maze.add_path((last_visited_cell.x,last_visited_cell.y-1),random_direction,0)  \n",
    "            vis[last_visited_cell.y][last_visited_cell.x] = 1\n",
    "            unvisited_cells-=1\n",
    "        elif random_direction == 'E':\n",
    "            if last_visited_cell.x+1>(maze.num_columns-1):\n",
    "                continue\n",
    "            last_visited_cell.x += 1\n",
    "            if vis[last_visited_cell.y][last_visited_cell.x] == 1:\n",
    "                continue\n",
    "            maze.add_path((last_visited_cell.x-1,last_visited_cell.y),random_direction,0)\n",
    "            vis[last_visited_cell.y][last_visited_cell.x] = 1\n",
    "            unvisited_cells-=1\n",
    "    #print(vis)\n",
    "    return \n",
    "        "
   ]
  },
  {
   "cell_type": "code",
   "execution_count": 4,
   "metadata": {},
   "outputs": [
    {
     "data": {
<<<<<<< HEAD
      "image/png": "iVBORw0KGgoAAAANSUhEUgAAANIAAADSCAYAAAA/mZ5CAAADy0lEQVR4nO3d0YmUZxSA4e//tYWBrSGwaSGwthDQFnKRIkwLEWxBwRYi2EIEaxCmhTCTi7DgmvnH1bz6jeF57ubbuTgs+3LYq7OMMY4D+E/W2QPA/4GQICAkCDz8+OF49C8TfMqyLHc+20gQ+NdGuvX06bcc4/72+/3sEc669PlevvxhjDHG1dXzyZOc9v79L2OMMdZ1809zqsPhr5PvNhIEhAQBIUFASBAQEgSEBAEhQUBIEBASBIQEASFBQEgQEBIEhAQBIUFASBAQEgSEBAEhQUBIEBASBIQEASFBQEgQEBIEhAQBIUFASBAQEgSEBAEhQUBIEBASBIQEASFBQEgQEBIENk9HX+p17mfPdmOMMR4/fjd5ktNur4bf3LyZPMlp19evxhhj7Ha7yZN8yqXPd5eNBAEhQUBIEBASBIQEASFBQEgQEBIEhAQBIUFASBAQEgSEBAEhQUBIEBASBIQEASFBQEgQEBIEhAQBIUFASBAQEgSEBAEhQUBIEBASBIQEASFBQEgQEBIEhAQBIUFASBAQEgSEBAEhQUBIEFjGGMcPH47H48ZXL8PNzZvZI5z1+vVPs0f4rq3rj7NHOOtw+HOMMcayLHfebSQIbG6k6+tXM+b5pN1uN3uEs/b7/ewRznr79ucxxhjr+mjyJFsu+/dnI8FXJCQICAkCQoKAkCAgJAgICQJCgoCQICAkCAgJAkKCgJAgICQICAkCQoKAkCAgJAgICQJCgoCQICAkCAgJAkKCgJAgICQICAkCQoKAkCAgJAgICQJCgoCQICAkCAgJAkKCgJAgsHnV/NJd6tX126vhl2pdn8we4azD4cXsEe7FVXP4Ch5u/WBdf/2Wc9zb4fD77BHuZV0fzR5hw272AGdd7u/tH4fDHyffbSQICAkCQoKAkCAgJAgICQJCgoCQICAkCAgJAkKCgJAgICQICAkCQoKAkCAgJAgICQJCgoCQICAkCAgJAkKCgJAgICQICAkCQoKAkCAgJAgICQJCgoCQICAkCAgJAkKCgJAgICQIbF41X5bLvH59dfV89gj3snX9erZLvVZ/63B4MXuEL2IjQWBzI/FlHjz4bfYI37V1fTJ7hLO2NqaNBAEhQUBIEBASBIQEASFBQEgQEBIEhAQBIUFASBAQEgSEBAEhQUBIEBASBIQEASFBQEgQEBIEhAQBIUFASBAQEgSEBAEhQUBIEBASBIQEASFBQEgQEBIEhAQBIUFASBAQEgSEBIFljHH88OF4PG58Fbi1LMudzzYSfKaPIxrjxEYCPp+NBAEhQUBIEPgbKkNU1W8h4oQAAAAASUVORK5CYII=\n",
      "text/plain": [
       "<PIL.Image.Image image mode=RGBA size=210x210 at 0x7F0F2041A8B0>"
=======
      "image/png": "iVBORw0KGgoAAAANSUhEUgAAAKoAAACqCAYAAAA9dtSCAAACqElEQVR4nO3dQWrbUBRAUUl0E50EvI1OAt1KVpKFdCuFrMRgAt2F1UkKTRoZk4L1b3vOyBYePMTl4dmbp2laJxjcsvcAcA2hkiBUEj69fbCu/rKyv3meX323UUn4Y6P+8vh4yzGudzwe9x7hIvP9ndPp4d3nNioJQiVBqCQIlQShkiBUEoRKglBJECoJQiVBqCQIlQShkiBUEoRKglBJECoJQiVBqCQIlQShkiBUEoRKglBJECoJQiVBqCQIlQShkiBUEoRKglBJECoJQiVBqCQIlQShkjBPb26hjn5n6v7++94jXPT09HXvEf4J7kyRtHln6u7u2y3nuNrhcNh7hKssix3wEefz+d3n3iYJQiVBqCQIlQShkiBUEoRKglBJECoJQiVBqCQIlQShkiBUEoRKglBJECoJQiVBqCQIlQShkiBUEoRKglBJECoJQiVBqCQIlQShkiBUEoRKglBJECoJQiVBqCQIlQShkrB5FeX5+XjLOa52Oj3sPcJFo19D2bo6Mrqx3yq82Nyoo1uWz3uPkFTd+GNPDS+ESoJQSRAqCUIlQagkCJUEoZIgVBKESoJQSRAqCUIlQagkCJUEoZIgVBKESoJQSRAqCUIlQagkCJUEoZIgVBKESoJQSRAqCUIlQagkCJUEoZIgVBKESoJQSRAqCUIl4cJVlDHvTC3Ll5dPh13n2HI+/9h7hItGv4qypTk1/53snanRVTfXqLxNEoRKglBJECoJQiVBqCQIlQShkiBUEoRKglBJECoJQiVBqCQIlQShkiBUEoRKglBJECoJQiVBqCQIlQShkiBUEoRKglBJECoJQiVBqCQIlQShkiBUEoRKglBJECoJQiVhnqZp/f3Buq4bP4Xbmef51XcbleG8jXSa3tmoMCIblQShkiBUEn4CZT8vsqpSu94AAAAASUVORK5CYII=\n",
      "text/plain": [
       "<PIL.Image.Image image mode=RGBA size=170x170 at 0x7FBC856EE700>"
>>>>>>> 788295a8bf3e855064bf228fda890feace819625
      ]
     },
     "metadata": {},
     "output_type": "display_data"
    }
   ],
   "source": [
    "maze = Maze(4, 4)\n",
    "aldousbroder(maze)\n",
    "maze.add_colors(color=(128, 128, 255))\n",
    "display(maze.draw(cell_width=40))\n",
    "maze.dump(\"Aldous-Broder_4x4.maze\")"
   ]
  },
  {
   "cell_type": "code",
   "execution_count": 5,
   "metadata": {},
   "outputs": [
    {
     "data": {
      "image/png": "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\n",
      "text/plain": [
       "<PIL.Image.Image image mode=RGBA size=330x330 at 0x7FBC856F3220>"
      ]
     },
     "metadata": {},
     "output_type": "display_data"
    }
   ],
   "source": [
    "maze = Maze(8, 8)\n",
    "aldousbroder(maze)\n",
    "maze.add_colors(color=(128, 128, 255))\n",
    "display(maze.draw(cell_width=40))\n",
    "maze.dump(\"Aldous-Broder_8x8.maze\")"
   ]
  },
  {
   "cell_type": "code",
   "execution_count": 6,
   "metadata": {},
   "outputs": [
    {
     "data": {
      "image/png": "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\n",
      "text/plain": [
       "<PIL.Image.Image image mode=RGBA size=650x650 at 0x7FBC88F764F0>"
      ]
     },
     "metadata": {},
     "output_type": "display_data"
    }
   ],
   "source": [
    "maze = Maze(16, 16)\n",
    "aldousbroder(maze)\n",
    "maze.add_colors(color=(128, 128, 255))\n",
    "display(maze.draw(cell_width=40))\n",
    "maze.dump(\"Aldous-Broder_16x16.maze\")"
   ]
  },
  {
   "cell_type": "markdown",
   "metadata": {},
   "source": [
    "## Basic analysis\n",
    "### Time Complexity : O(Infinity), Amortized analysis left\n",
    "Mildly complicated, as it's entirely random\n",
    "### Additional Space : O(N<sup>2</sup>)\n",
    "For the algorithm to work, we need to check if the nodes are visited. To do this we need to maintain atleast a bit of information per node. As there are N<sup>2</sup> nodes, we need N<sup>2</sup> additional space. We also need a stack that can grow to atmost N<sup>2</sup> size (worst case).\n",
    "### Bias\n",
    "Guaranteed to have no bias."
   ]
  },
  {
   "cell_type": "code",
<<<<<<< HEAD
   "execution_count": 9,
   "metadata": {},
   "outputs": [
    {
     "name": "stdout",
     "output_type": "stream",
     "text": [
      "    Deadends  :  29.247280\n",
      "Straightways  :  17.313080\n",
      "   LeftTurns  :  13.874280\n",
      "  RightTurns  :  13.876360\n",
      "   Junctions  :  22.210720\n",
      "  Crossroads  :  3.478280\n"
=======
   "execution_count": 7,
   "metadata": {},
   "outputs": [
    {
     "ename": "KeyboardInterrupt",
     "evalue": "",
     "output_type": "error",
     "traceback": [
      "\u001b[0;31m---------------------------------------------------------------------------\u001b[0m",
      "\u001b[0;31mKeyboardInterrupt\u001b[0m                         Traceback (most recent call last)",
      "\u001b[0;32m<ipython-input-7-b11899f7cf1c>\u001b[0m in \u001b[0;36m<module>\u001b[0;34m\u001b[0m\n\u001b[1;32m      2\u001b[0m \u001b[0;32mfor\u001b[0m \u001b[0mi\u001b[0m \u001b[0;32min\u001b[0m \u001b[0mrange\u001b[0m\u001b[0;34m(\u001b[0m\u001b[0;36m0\u001b[0m\u001b[0;34m,\u001b[0m \u001b[0;36m100\u001b[0m\u001b[0;34m)\u001b[0m\u001b[0;34m:\u001b[0m\u001b[0;34m\u001b[0m\u001b[0;34m\u001b[0m\u001b[0m\n\u001b[1;32m      3\u001b[0m     \u001b[0mmaze\u001b[0m \u001b[0;34m=\u001b[0m \u001b[0mMaze\u001b[0m\u001b[0;34m(\u001b[0m\u001b[0;36m100\u001b[0m\u001b[0;34m,\u001b[0m \u001b[0;36m100\u001b[0m\u001b[0;34m)\u001b[0m\u001b[0;34m\u001b[0m\u001b[0;34m\u001b[0m\u001b[0m\n\u001b[0;32m----> 4\u001b[0;31m     \u001b[0maldousbroder\u001b[0m\u001b[0;34m(\u001b[0m\u001b[0mmaze\u001b[0m\u001b[0;34m)\u001b[0m\u001b[0;34m\u001b[0m\u001b[0;34m\u001b[0m\u001b[0m\n\u001b[0m\u001b[1;32m      5\u001b[0m     \u001b[0mpartial\u001b[0m \u001b[0;34m=\u001b[0m \u001b[0mmaze\u001b[0m\u001b[0;34m.\u001b[0m\u001b[0mbenchmark\u001b[0m\u001b[0;34m(\u001b[0m\u001b[0;34m)\u001b[0m\u001b[0;34m\u001b[0m\u001b[0;34m\u001b[0m\u001b[0m\n\u001b[1;32m      6\u001b[0m     \u001b[0mtotal\u001b[0m\u001b[0;34m[\u001b[0m\u001b[0;34m\"Deadends\"\u001b[0m\u001b[0;34m]\u001b[0m \u001b[0;34m+=\u001b[0m \u001b[0mpartial\u001b[0m\u001b[0;34m[\u001b[0m\u001b[0;34m\"Deadends\"\u001b[0m\u001b[0;34m]\u001b[0m\u001b[0;34m\u001b[0m\u001b[0;34m\u001b[0m\u001b[0m\n",
      "\u001b[0;32m<ipython-input-3-21b382534a4c>\u001b[0m in \u001b[0;36maldousbroder\u001b[0;34m(maze)\u001b[0m\n\u001b[1;32m     46\u001b[0m                 \u001b[0;32mcontinue\u001b[0m\u001b[0;34m\u001b[0m\u001b[0;34m\u001b[0m\u001b[0m\n\u001b[1;32m     47\u001b[0m             \u001b[0mlast_visited_cell\u001b[0m\u001b[0;34m.\u001b[0m\u001b[0my\u001b[0m \u001b[0;34m+=\u001b[0m \u001b[0;36m1\u001b[0m\u001b[0;34m\u001b[0m\u001b[0;34m\u001b[0m\u001b[0m\n\u001b[0;32m---> 48\u001b[0;31m             \u001b[0;32mif\u001b[0m \u001b[0mvis\u001b[0m\u001b[0;34m[\u001b[0m\u001b[0mlast_visited_cell\u001b[0m\u001b[0;34m.\u001b[0m\u001b[0my\u001b[0m\u001b[0;34m]\u001b[0m\u001b[0;34m[\u001b[0m\u001b[0mlast_visited_cell\u001b[0m\u001b[0;34m.\u001b[0m\u001b[0mx\u001b[0m\u001b[0;34m]\u001b[0m \u001b[0;34m==\u001b[0m \u001b[0;36m1\u001b[0m\u001b[0;34m:\u001b[0m\u001b[0;34m\u001b[0m\u001b[0;34m\u001b[0m\u001b[0m\n\u001b[0m\u001b[1;32m     49\u001b[0m                 \u001b[0;32mcontinue\u001b[0m\u001b[0;34m\u001b[0m\u001b[0;34m\u001b[0m\u001b[0m\n\u001b[1;32m     50\u001b[0m             \u001b[0mmaze\u001b[0m\u001b[0;34m.\u001b[0m\u001b[0madd_path\u001b[0m\u001b[0;34m(\u001b[0m\u001b[0;34m(\u001b[0m\u001b[0mlast_visited_cell\u001b[0m\u001b[0;34m.\u001b[0m\u001b[0mx\u001b[0m\u001b[0;34m,\u001b[0m\u001b[0mlast_visited_cell\u001b[0m\u001b[0;34m.\u001b[0m\u001b[0my\u001b[0m\u001b[0;34m-\u001b[0m\u001b[0;36m1\u001b[0m\u001b[0;34m)\u001b[0m\u001b[0;34m,\u001b[0m\u001b[0mrandom_direction\u001b[0m\u001b[0;34m,\u001b[0m\u001b[0;36m0\u001b[0m\u001b[0;34m)\u001b[0m\u001b[0;34m\u001b[0m\u001b[0;34m\u001b[0m\u001b[0m\n",
      "\u001b[0;31mKeyboardInterrupt\u001b[0m: "
>>>>>>> 788295a8bf3e855064bf228fda890feace819625
     ]
    }
   ],
   "source": [
    "total = {\"Deadends\": 0, \"Straightways\": 0, \"LeftTurns\": 0, \"RightTurns\": 0, \"Junctions\": 0, \"Crossroads\": 0}\n",
    "for i in range(0, 1000):\n",
    "    maze = Maze(50, 50)\n",
    "    aldousbroder(maze)\n",
    "    partial = maze.benchmark()\n",
    "    total[\"Deadends\"] += partial[\"Deadends\"]\n",
    "    total[\"Straightways\"] += partial[\"Straightways\"]\n",
    "    total[\"LeftTurns\"] += partial[\"LeftTurns\"]\n",
    "    total[\"RightTurns\"] += partial[\"RightTurns\"]\n",
    "    total[\"Junctions\"] += partial[\"Junctions\"]\n",
    "    total[\"Crossroads\"] += partial[\"Crossroads\"]\n",
    "\n",
    "div = 0\n",
    "for i in total:\n",
    "    div += total[i]\n",
    "\n",
    "for i in total:\n",
    "    total[i] /= div\n",
    "    total[i] *= 100\n",
    "    round(total[i], 3)\n",
    "\n",
    "for i in total:\n",
    "    print(\"%12s %s %3f\" % (i, \" : \", total[i]))"
   ]
  },
  {
   "cell_type": "markdown",
   "metadata": {},
   "source": [
    "### Further analysis\n",
    "This algorithm tends to create highly unbiased mazes due to its sheer randomness. However we can see that the percentage of deadends is relatively high, and that of straightways are lower. This indicates the creation of multiple passageways that tend to terminate early and not wind around each other much. There is no bias between the directions. "
   ]
  }
 ],
 "metadata": {
  "kernelspec": {
   "display_name": "Python 3",
   "language": "python",
   "name": "python3"
  },
  "language_info": {
   "codemirror_mode": {
    "name": "ipython",
    "version": 3
   },
   "file_extension": ".py",
   "mimetype": "text/x-python",
   "name": "python",
   "nbconvert_exporter": "python",
   "pygments_lexer": "ipython3",
<<<<<<< HEAD
   "version": "3.8.5"
=======
   "version": "3.8.6"
>>>>>>> 788295a8bf3e855064bf228fda890feace819625
  }
 },
 "nbformat": 4,
 "nbformat_minor": 4
}
